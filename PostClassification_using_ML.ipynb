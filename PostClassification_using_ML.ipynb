{
  "nbformat": 4,
  "nbformat_minor": 0,
  "metadata": {
    "colab": {
      "name": "PostClassification_using_ML.ipynb",
      "provenance": [],
      "collapsed_sections": [
        "_-DyMvjr6DO1",
        "Fo4U4khN8maG",
        "9VZYY3OOMkJA"
      ],
      "mount_file_id": "1IY5Ik_hcIQDxSyxm70HXKyoCcYWOg2YT",
      "authorship_tag": "ABX9TyPag98WStLjVuE0B/X85z8d",
      "include_colab_link": true
    },
    "kernelspec": {
      "display_name": "Python 3",
      "name": "python3"
    },
    "language_info": {
      "name": "python"
    }
  },
  "cells": [
    {
      "cell_type": "markdown",
      "metadata": {
        "id": "view-in-github",
        "colab_type": "text"
      },
      "source": [
        "<a href=\"https://colab.research.google.com/github/seabnavin19/Design-Pattern-In-Java/blob/master/PostClassification_using_ML.ipynb\" target=\"_parent\"><img src=\"https://colab.research.google.com/assets/colab-badge.svg\" alt=\"Open In Colab\"/></a>"
      ]
    },
    {
      "cell_type": "code",
      "metadata": {
        "id": "jH1Eu7BaGYTi"
      },
      "source": [
        "import pandas as pd\n",
        "import numpy as np"
      ],
      "execution_count": 1,
      "outputs": []
    },
    {
      "cell_type": "markdown",
      "metadata": {
        "id": "_x-b2yRmauZn"
      },
      "source": [
        "## X train"
      ]
    },
    {
      "cell_type": "code",
      "metadata": {
        "id": "deyNpPXLGenB",
        "colab": {
          "base_uri": "https://localhost:8080/"
        },
        "outputId": "5d337493-274e-4784-f41c-3c3cd00dbb7d"
      },
      "source": [
        "import pickle\n",
        "cop3=[]\n",
        "with open(\"/content/drive/MyDrive/Post_Dataset/Data/sentence_train_lower.txt\", \"rb\") as fp:   # Unpickling\n",
        " train = pickle.load(fp)\n",
        "with open(\"/content/drive/MyDrive/Post_Dataset/Data/sentence_test_lower.txt\", \"rb\") as fp:   # Unpickling\n",
        " test = pickle.load(fp)\n",
        "# with open(\"/content/drive/MyDrive/Post_Dataset/Data/sentence_normal_lower.txt\", \"rb\") as fp:   # Unpickling\n",
        "#  normal = pickle.load(fp)\n",
        "\n",
        "# with open(\"/content/drive/MyDrive/Post_Dataset/Data/sentence_report_lower.txt\", \"rb\") as fp:   # Unpickling\n",
        "#  report = pickle.load(fp)\n",
        "\n",
        "cop3.extend(train)\n",
        "cop3.extend(test)\n",
        "# cop3.extend(normal)\n",
        "# cop3.extend(report)\n",
        "test=[]\n",
        "train=[]\n",
        "normal=[]\n",
        "report=[]\n",
        "len(cop3)"
      ],
      "execution_count": 2,
      "outputs": [
        {
          "output_type": "execute_result",
          "data": {
            "text/plain": [
              "24193"
            ]
          },
          "metadata": {
            "tags": []
          },
          "execution_count": 2
        }
      ]
    },
    {
      "cell_type": "code",
      "metadata": {
        "id": "ih0zt0chfPYd"
      },
      "source": [
        "# df_train=pd.read_csv(\"/content/drive/MyDrive/Post_Dataset/Data/train_result.csv\")\n",
        "# df_train"
      ],
      "execution_count": 3,
      "outputs": []
    },
    {
      "cell_type": "markdown",
      "metadata": {
        "id": "tmS3cfZ8axPY"
      },
      "source": [
        "## Y Train"
      ]
    },
    {
      "cell_type": "code",
      "metadata": {
        "id": "O5DhKpRgGxth"
      },
      "source": [
        "df_train=pd.read_csv(\"/content/drive/MyDrive/Post_Dataset/Data/train_result.csv\")\n",
        "df_test=pd.read_csv(\"/content/drive/MyDrive/Post_Dataset/Data/test_result.csv\")\n",
        "# df_normal=pd.read_csv(\"/content/drive/MyDrive/Post_Dataset/Data/result_normal_v2.csv\")\n",
        "# df_report=pd.read_csv(\"/content/drive/MyDrive/Post_Dataset/Data/report_result.csv\")"
      ],
      "execution_count": 4,
      "outputs": []
    },
    {
      "cell_type": "code",
      "metadata": {
        "colab": {
          "base_uri": "https://localhost:8080/",
          "height": 453
        },
        "id": "gAbGQLpV99_E",
        "outputId": "1009faae-ddd3-4f06-faac-13444118affa"
      },
      "source": [
        "df_test"
      ],
      "execution_count": 5,
      "outputs": [
        {
          "output_type": "execute_result",
          "data": {
            "text/html": [
              "<div>\n",
              "<style scoped>\n",
              "    .dataframe tbody tr th:only-of-type {\n",
              "        vertical-align: middle;\n",
              "    }\n",
              "\n",
              "    .dataframe tbody tr th {\n",
              "        vertical-align: top;\n",
              "    }\n",
              "\n",
              "    .dataframe thead th {\n",
              "        text-align: right;\n",
              "    }\n",
              "</style>\n",
              "<table border=\"1\" class=\"dataframe\">\n",
              "  <thead>\n",
              "    <tr style=\"text-align: right;\">\n",
              "      <th></th>\n",
              "      <th>Unnamed: 0</th>\n",
              "      <th>Unnamed: 0.1</th>\n",
              "      <th>Unnamed: 0.1.1</th>\n",
              "      <th>Unnamed: 0.1.1.1</th>\n",
              "      <th>Unnamed: 0.1.1.1.1</th>\n",
              "      <th>Unnamed: 0.1.1.1.1.1</th>\n",
              "      <th>string_value</th>\n",
              "      <th>NO_let</th>\n",
              "      <th>Coverted_String</th>\n",
              "      <th>Label</th>\n",
              "      <th>probability</th>\n",
              "    </tr>\n",
              "  </thead>\n",
              "  <tbody>\n",
              "    <tr>\n",
              "      <th>0</th>\n",
              "      <td>0</td>\n",
              "      <td>0</td>\n",
              "      <td>0</td>\n",
              "      <td>0</td>\n",
              "      <td>0</td>\n",
              "      <td>0</td>\n",
              "      <td>分享你今個sem靚咗grade嘅course</td>\n",
              "      <td>分享 今個 sem grade course</td>\n",
              "      <td>分享 今個 sem grade course</td>\n",
              "      <td>-1</td>\n",
              "      <td>0.648897</td>\n",
              "    </tr>\n",
              "    <tr>\n",
              "      <th>1</th>\n",
              "      <td>1</td>\n",
              "      <td>1</td>\n",
              "      <td>1</td>\n",
              "      <td>1</td>\n",
              "      <td>1</td>\n",
              "      <td>1</td>\n",
              "      <td>出cheat者可恥至極</td>\n",
              "      <td>出 cheat 可恥 極</td>\n",
              "      <td>出 cheat 可恥 極</td>\n",
              "      <td>8</td>\n",
              "      <td>0.800065</td>\n",
              "    </tr>\n",
              "    <tr>\n",
              "      <th>2</th>\n",
              "      <td>2</td>\n",
              "      <td>2</td>\n",
              "      <td>2</td>\n",
              "      <td>2</td>\n",
              "      <td>2</td>\n",
              "      <td>2</td>\n",
              "      <td>有冇人有first hon嘅stat?</td>\n",
              "      <td>first hon stat</td>\n",
              "      <td>first hon stat</td>\n",
              "      <td>-1</td>\n",
              "      <td>0.537820</td>\n",
              "    </tr>\n",
              "    <tr>\n",
              "      <th>3</th>\n",
              "      <td>3</td>\n",
              "      <td>3</td>\n",
              "      <td>3</td>\n",
              "      <td>3</td>\n",
              "      <td>3</td>\n",
              "      <td>3</td>\n",
              "      <td>出咗GPA...</td>\n",
              "      <td>出 GPA</td>\n",
              "      <td>出 GPA</td>\n",
              "      <td>0</td>\n",
              "      <td>0.553232</td>\n",
              "    </tr>\n",
              "    <tr>\n",
              "      <th>4</th>\n",
              "      <td>4</td>\n",
              "      <td>4</td>\n",
              "      <td>4</td>\n",
              "      <td>4</td>\n",
              "      <td>4</td>\n",
              "      <td>4</td>\n",
              "      <td>Cgpa 得2.97係咪可而quit🥲</td>\n",
              "      <td>Cgpa 係咪 quit</td>\n",
              "      <td>Cgpa 係咪 quit</td>\n",
              "      <td>3</td>\n",
              "      <td>0.473824</td>\n",
              "    </tr>\n",
              "    <tr>\n",
              "      <th>...</th>\n",
              "      <td>...</td>\n",
              "      <td>...</td>\n",
              "      <td>...</td>\n",
              "      <td>...</td>\n",
              "      <td>...</td>\n",
              "      <td>...</td>\n",
              "      <td>...</td>\n",
              "      <td>...</td>\n",
              "      <td>...</td>\n",
              "      <td>...</td>\n",
              "      <td>...</td>\n",
              "    </tr>\n",
              "    <tr>\n",
              "      <th>9995</th>\n",
              "      <td>9995</td>\n",
              "      <td>9995</td>\n",
              "      <td>9995</td>\n",
              "      <td>9995</td>\n",
              "      <td>9995</td>\n",
              "      <td>9995</td>\n",
              "      <td>好心dse應屆生同asso ，hd，ive唔好做爛市</td>\n",
              "      <td>好心 dse 應屆生 asso ive 唔 爛 市</td>\n",
              "      <td>好心 dse 應屆生 asso hd ive 唔 爛 市</td>\n",
              "      <td>4</td>\n",
              "      <td>0.678905</td>\n",
              "    </tr>\n",
              "    <tr>\n",
              "      <th>9996</th>\n",
              "      <td>9996</td>\n",
              "      <td>9996</td>\n",
              "      <td>9996</td>\n",
              "      <td>9996</td>\n",
              "      <td>9996</td>\n",
              "      <td>9996</td>\n",
              "      <td>有冇人想搵教練教 平freelance</td>\n",
              "      <td>想 教 練 教 平 freelanc</td>\n",
              "      <td>想 教 練 教 平 freelanc</td>\n",
              "      <td>2</td>\n",
              "      <td>0.535981</td>\n",
              "    </tr>\n",
              "    <tr>\n",
              "      <th>9997</th>\n",
              "      <td>9997</td>\n",
              "      <td>9997</td>\n",
              "      <td>9997</td>\n",
              "      <td>9997</td>\n",
              "      <td>9997</td>\n",
              "      <td>9997</td>\n",
              "      <td>af3111 IA2</td>\n",
              "      <td>IA</td>\n",
              "      <td>af IA</td>\n",
              "      <td>0</td>\n",
              "      <td>0.738283</td>\n",
              "    </tr>\n",
              "    <tr>\n",
              "      <th>9998</th>\n",
              "      <td>9998</td>\n",
              "      <td>9998</td>\n",
              "      <td>9998</td>\n",
              "      <td>9998</td>\n",
              "      <td>9998</td>\n",
              "      <td>9998</td>\n",
              "      <td>交換source</td>\n",
              "      <td>交換 source</td>\n",
              "      <td>交換 source</td>\n",
              "      <td>7</td>\n",
              "      <td>0.756777</td>\n",
              "    </tr>\n",
              "    <tr>\n",
              "      <th>9999</th>\n",
              "      <td>9999</td>\n",
              "      <td>9999</td>\n",
              "      <td>9999</td>\n",
              "      <td>9999</td>\n",
              "      <td>9999</td>\n",
              "      <td>9999</td>\n",
              "      <td>美食 B233CF asm1 幾分</td>\n",
              "      <td>美食 cf asm 幾分</td>\n",
              "      <td>美食 B cf asm 幾分</td>\n",
              "      <td>0</td>\n",
              "      <td>0.349863</td>\n",
              "    </tr>\n",
              "  </tbody>\n",
              "</table>\n",
              "<p>10000 rows × 11 columns</p>\n",
              "</div>"
            ],
            "text/plain": [
              "      Unnamed: 0  Unnamed: 0.1  ...  Label  probability\n",
              "0              0             0  ...     -1     0.648897\n",
              "1              1             1  ...      8     0.800065\n",
              "2              2             2  ...     -1     0.537820\n",
              "3              3             3  ...      0     0.553232\n",
              "4              4             4  ...      3     0.473824\n",
              "...          ...           ...  ...    ...          ...\n",
              "9995        9995          9995  ...      4     0.678905\n",
              "9996        9996          9996  ...      2     0.535981\n",
              "9997        9997          9997  ...      0     0.738283\n",
              "9998        9998          9998  ...      7     0.756777\n",
              "9999        9999          9999  ...      0     0.349863\n",
              "\n",
              "[10000 rows x 11 columns]"
            ]
          },
          "metadata": {
            "tags": []
          },
          "execution_count": 5
        }
      ]
    },
    {
      "cell_type": "code",
      "metadata": {
        "id": "IObiMNwFM1bm",
        "colab": {
          "base_uri": "https://localhost:8080/",
          "height": 49
        },
        "outputId": "475b3369-ba4d-45cd-a8d5-6497898e275c"
      },
      "source": [
        "# df.fillna(\" \",inplace=True)\n",
        "# df_train.replace({6:},inplace=True)\n",
        "df_train.loc[(df_train[\"Label\"].isin([6,8])) & (df_train[\"probability\"]>=0.10), \"Label\"] = \"Bad\"\n",
        "df_test.loc[(df_test[\"Label\"].isin([6,8])) & (df_test[\"probability\"]>=0.10), \"Label\"] = \"Bad\"\n",
        "# df_normal.loc[~df_normal[\"Label\"].isin([6,8]), \"Label\"] = \"Not Bad\"\n",
        "# df_report.loc[~df_report[\"Label\"].isin([6,8]), \"Label\"] = \"Not Bad\"\n",
        "df_test[df_test[\"Label\"]==8]"
      ],
      "execution_count": 6,
      "outputs": [
        {
          "output_type": "execute_result",
          "data": {
            "text/html": [
              "<div>\n",
              "<style scoped>\n",
              "    .dataframe tbody tr th:only-of-type {\n",
              "        vertical-align: middle;\n",
              "    }\n",
              "\n",
              "    .dataframe tbody tr th {\n",
              "        vertical-align: top;\n",
              "    }\n",
              "\n",
              "    .dataframe thead th {\n",
              "        text-align: right;\n",
              "    }\n",
              "</style>\n",
              "<table border=\"1\" class=\"dataframe\">\n",
              "  <thead>\n",
              "    <tr style=\"text-align: right;\">\n",
              "      <th></th>\n",
              "      <th>Unnamed: 0</th>\n",
              "      <th>Unnamed: 0.1</th>\n",
              "      <th>Unnamed: 0.1.1</th>\n",
              "      <th>Unnamed: 0.1.1.1</th>\n",
              "      <th>Unnamed: 0.1.1.1.1</th>\n",
              "      <th>Unnamed: 0.1.1.1.1.1</th>\n",
              "      <th>string_value</th>\n",
              "      <th>NO_let</th>\n",
              "      <th>Coverted_String</th>\n",
              "      <th>Label</th>\n",
              "      <th>probability</th>\n",
              "    </tr>\n",
              "  </thead>\n",
              "  <tbody>\n",
              "  </tbody>\n",
              "</table>\n",
              "</div>"
            ],
            "text/plain": [
              "Empty DataFrame\n",
              "Columns: [Unnamed: 0, Unnamed: 0.1, Unnamed: 0.1.1, Unnamed: 0.1.1.1, Unnamed: 0.1.1.1.1, Unnamed: 0.1.1.1.1.1, string_value, NO_let, Coverted_String, Label, probability]\n",
              "Index: []"
            ]
          },
          "metadata": {
            "tags": []
          },
          "execution_count": 6
        }
      ]
    },
    {
      "cell_type": "code",
      "metadata": {
        "id": "mGiD5-xufkch"
      },
      "source": [
        "# df_train.replace({6:\"Bad\",8:\"Bad\"},inplace=True)\n",
        "# df_test.replace({6:\"Bad\",8:\"Bad\"},inplace=True)\n",
        "# df_normal.replace({6:\"Bad\",8:\"Bad\"},inplace=True)\n",
        "# df_report.replace({6:\"Bad\",8:\"Bad\"},inplace=True)\n",
        "df_train.loc[df_train[\"Label\"]!=\"Bad\", \"Label\"] = \"Not Bad\"\n",
        "df_test.loc[df_test[\"Label\"]!=\"Bad\", \"Label\"] = \"Not Bad\"\n"
      ],
      "execution_count": 7,
      "outputs": []
    },
    {
      "cell_type": "code",
      "metadata": {
        "id": "C4PyDTPuGcYw"
      },
      "source": [
        "df_train=df_train[[\"Label\"]]\n",
        "df_test=df_test[[\"Label\"]]\n",
        "# df_normal=df_normal[[\"Label\"]]\n",
        "# df_report=df_report[[\"Label\"]]"
      ],
      "execution_count": 8,
      "outputs": []
    },
    {
      "cell_type": "code",
      "metadata": {
        "colab": {
          "base_uri": "https://localhost:8080/"
        },
        "id": "qj6IZePdG-tb",
        "outputId": "ed88d06e-e543-4722-9d3e-5108f023099e"
      },
      "source": [
        "df=df_train.append([df_test])\n",
        "df_train=[]\n",
        "df_test=[]\n",
        "df_normal=[]\n",
        "df_report=[]\n",
        "df.shape\n"
      ],
      "execution_count": 9,
      "outputs": [
        {
          "output_type": "execute_result",
          "data": {
            "text/plain": [
              "(24193, 1)"
            ]
          },
          "metadata": {
            "tags": []
          },
          "execution_count": 9
        }
      ]
    },
    {
      "cell_type": "code",
      "metadata": {
        "colab": {
          "base_uri": "https://localhost:8080/"
        },
        "id": "QAdZdcdh-1Lh",
        "outputId": "bcfca0ab-1b7e-4da7-bb91-e7c77c291aeb"
      },
      "source": [
        "from collections import Counter\n",
        "Counter(df[\"Label\"])"
      ],
      "execution_count": 38,
      "outputs": [
        {
          "output_type": "execute_result",
          "data": {
            "text/plain": [
              "Counter({'Bad': 4172, 'Not Bad': 20021})"
            ]
          },
          "metadata": {
            "tags": []
          },
          "execution_count": 38
        }
      ]
    },
    {
      "cell_type": "markdown",
      "metadata": {
        "id": "_-DyMvjr6DO1"
      },
      "source": [
        "## Previous Data"
      ]
    },
    {
      "cell_type": "code",
      "metadata": {
        "colab": {
          "base_uri": "https://localhost:8080/"
        },
        "id": "G9pzdl65h0Yq",
        "outputId": "accc79cc-1201-4aa8-90d6-e8690e4d7e8b"
      },
      "source": [
        "from collections import Counter\n",
        "Counter(df_train[\"Label\"].values),Counter(df_test[\"Label\"].values),Counter(df_report[\"Label\"].values)"
      ],
      "execution_count": null,
      "outputs": [
        {
          "output_type": "execute_result",
          "data": {
            "text/plain": [
              "(Counter({0: 11461, 1: 2732}),\n",
              " Counter({0: 8560, 1: 1440}),\n",
              " Counter({0: 5926, 1: 2079}))"
            ]
          },
          "metadata": {
            "tags": []
          },
          "execution_count": 9
        }
      ]
    },
    {
      "cell_type": "code",
      "metadata": {
        "id": "BjWxFi7niWQG"
      },
      "source": [
        "Y=[]\n",
        "Y.extend(df_train[\"Label\"].values)\n",
        "Y.extend(df_test[\"Label\"].values)\n",
        "# Y.extend(df_normal[\"Label\"].values)\n",
        "Y.extend(df_report[\"Label\"].values)"
      ],
      "execution_count": null,
      "outputs": []
    },
    {
      "cell_type": "code",
      "metadata": {
        "id": "pGKs_ZJE4I1v"
      },
      "source": [
        ""
      ],
      "execution_count": null,
      "outputs": []
    },
    {
      "cell_type": "code",
      "metadata": {
        "colab": {
          "base_uri": "https://localhost:8080/"
        },
        "id": "ADYS2Ts5ipht",
        "outputId": "0770f2fc-1456-4719-f92e-ba6ea1e0977c"
      },
      "source": [
        "Counter(Y)"
      ],
      "execution_count": null,
      "outputs": [
        {
          "output_type": "execute_result",
          "data": {
            "text/plain": [
              "Counter({0: 25947, 1: 6251})"
            ]
          },
          "metadata": {
            "tags": []
          },
          "execution_count": 11
        }
      ]
    },
    {
      "cell_type": "code",
      "metadata": {
        "id": "JvqAIRL_XLV5"
      },
      "source": [
        "topic_bad=df[df[\"Topic rating\"]==\"Bad\"][\"Topic\"]\n",
        "topic_good=df[df[\"Topic rating\"]==\"Not Bad\"][\"Topic\"]"
      ],
      "execution_count": null,
      "outputs": []
    },
    {
      "cell_type": "code",
      "metadata": {
        "colab": {
          "base_uri": "https://localhost:8080/"
        },
        "id": "BMAs22l_XOx8",
        "outputId": "afb4ddea-bbef-4003-d126-94108d0694e4"
      },
      "source": [
        "topic_bad.shape,topic_good.shape"
      ],
      "execution_count": null,
      "outputs": [
        {
          "output_type": "execute_result",
          "data": {
            "text/plain": [
              "((7981,), (8111,))"
            ]
          },
          "metadata": {
            "tags": []
          },
          "execution_count": 30
        }
      ]
    },
    {
      "cell_type": "code",
      "metadata": {
        "id": "0fAPKY0GXcas"
      },
      "source": [
        "inter=np.intersect1d(topic_bad, topic_good)\n",
        "# df.loc([df[\"Topic\"].isin (inter)][\"Topic rating\"])=[\"Not Bad\"]*177\n",
        "df.loc[df[\"Topic\"].isin(inter), \"Topic rating\"] = \"Bad\"\n"
      ],
      "execution_count": null,
      "outputs": []
    },
    {
      "cell_type": "code",
      "metadata": {
        "colab": {
          "base_uri": "https://localhost:8080/"
        },
        "id": "Z0ndU1OgiWnZ",
        "outputId": "071117c2-d456-47b2-f1ac-b20a605d5e61"
      },
      "source": [
        "df[df[\"Topic\"].isin (inter)][\"Topic rating\"].unique()"
      ],
      "execution_count": null,
      "outputs": [
        {
          "output_type": "execute_result",
          "data": {
            "text/plain": [
              "array(['Bad'], dtype=object)"
            ]
          },
          "metadata": {
            "tags": []
          },
          "execution_count": 32
        }
      ]
    },
    {
      "cell_type": "code",
      "metadata": {
        "colab": {
          "base_uri": "https://localhost:8080/"
        },
        "id": "FWbly85qjmgi",
        "outputId": "9d9f514d-3a9c-4f5b-af26-5a11bf0fb917"
      },
      "source": [
        "from collections import Counter\n",
        "d=Counter(df[\"Topic rating\"])\n",
        "d"
      ],
      "execution_count": null,
      "outputs": [
        {
          "output_type": "execute_result",
          "data": {
            "text/plain": [
              "Counter({'Bad': 8063, 'Not Bad': 8029})"
            ]
          },
          "metadata": {
            "tags": []
          },
          "execution_count": 33
        }
      ]
    },
    {
      "cell_type": "code",
      "metadata": {
        "id": "pLs_alcAA_4M"
      },
      "source": [
        ""
      ],
      "execution_count": null,
      "outputs": []
    },
    {
      "cell_type": "code",
      "metadata": {
        "colab": {
          "base_uri": "https://localhost:8080/"
        },
        "id": "-3pYteVsM6Jm",
        "outputId": "bc8bdc02-c424-4d3d-8abe-50e403fcfb5b"
      },
      "source": [
        "# df[\"Topic rating\"].unique()\n",
        "df=mw.copy()\n",
        "df.shape"
      ],
      "execution_count": null,
      "outputs": [
        {
          "output_type": "execute_result",
          "data": {
            "text/plain": [
              "(14486, 1)"
            ]
          },
          "metadata": {
            "tags": []
          },
          "execution_count": 40
        }
      ]
    },
    {
      "cell_type": "code",
      "metadata": {
        "colab": {
          "base_uri": "https://localhost:8080/"
        },
        "id": "QsmOjq8iGyoi",
        "outputId": "af37bb31-3b35-4f9a-f3ac-2b169bf11259"
      },
      "source": [
        "#install independancies for chinese language\n",
        "!pip install jieba \n",
        "!pip install stopwordsiso"
      ],
      "execution_count": null,
      "outputs": [
        {
          "output_type": "stream",
          "text": [
            "Requirement already satisfied: jieba in /usr/local/lib/python3.7/dist-packages (0.42.1)\n",
            "Requirement already satisfied: stopwordsiso in /usr/local/lib/python3.7/dist-packages (0.6.1)\n"
          ],
          "name": "stdout"
        }
      ]
    },
    {
      "cell_type": "code",
      "metadata": {
        "colab": {
          "base_uri": "https://localhost:8080/"
        },
        "id": "fWhpvv-VH0Ak",
        "outputId": "50f845dd-8d84-4f2d-fb79-9e85dfcb7d4a"
      },
      "source": [
        "#use to detect english sentence\n",
        "!pip install langdetect\n",
        "from langdetect import detect"
      ],
      "execution_count": null,
      "outputs": [
        {
          "output_type": "stream",
          "text": [
            "Requirement already satisfied: langdetect in /usr/local/lib/python3.7/dist-packages (1.0.9)\n",
            "Requirement already satisfied: six in /usr/local/lib/python3.7/dist-packages (from langdetect) (1.15.0)\n"
          ],
          "name": "stdout"
        }
      ]
    },
    {
      "cell_type": "markdown",
      "metadata": {
        "id": "Fo4U4khN8maG"
      },
      "source": [
        "## Add Bad Word"
      ]
    },
    {
      "cell_type": "code",
      "metadata": {
        "id": "1l1XMYUi8prd",
        "colab": {
          "base_uri": "https://localhost:8080/"
        },
        "outputId": "860622ed-de9f-4f6f-fd57-c413354200ca"
      },
      "source": [
        "bad_word=['8婆','八婆','大波','閪','臭西','傻西','臭雞','狗公','公廁','厹','hall雞','含撚','中出','淫雞','淫賤''on9','sex','打飛','打j','屌','自慰','破處','好撚柒','好柒','扑野','撚樣']\n",
        "# com=[\"test\"]*len(bad_word)\n",
        "# data={\"Topic rating\":[\"Bad\"]*len(bad_word),\"Topic\":bad_word,\"Community\":com}\n",
        "# df_marks = pd.DataFrame(data)\n",
        "# df_marks1=df.append(df_marks)\n",
        "# df_marks1\n",
        "with open('/content/drive/MyDrive/Post_Dataset/sentences.npy', 'rb') as f:\n",
        "    sentences = np.load(f)\n",
        "sentences\n"
      ],
      "execution_count": null,
      "outputs": [
        {
          "output_type": "execute_result",
          "data": {
            "text/plain": [
              "array(['記 HK 超抵 玩 轉台 優惠 G 無限 任用', '学生 个人 兼职 援交 加', '轉 台大 優惠', ...,\n",
              "       '캘 리 포 니 아', '揀 實習 開 case 定開 gp', '八奇 軍師 開始 明白 政府 玩 緊'],\n",
              "      dtype='<U273')"
            ]
          },
          "metadata": {
            "tags": []
          },
          "execution_count": 13
        }
      ]
    },
    {
      "cell_type": "code",
      "metadata": {
        "colab": {
          "base_uri": "https://localhost:8080/"
        },
        "id": "63_YtOi8DevG",
        "outputId": "a40c104c-6b9c-48d7-df2c-40649018aaff"
      },
      "source": [
        "df.shape"
      ],
      "execution_count": null,
      "outputs": [
        {
          "output_type": "execute_result",
          "data": {
            "text/plain": [
              "(14551, 2)"
            ]
          },
          "metadata": {
            "tags": []
          },
          "execution_count": 29
        }
      ]
    },
    {
      "cell_type": "markdown",
      "metadata": {
        "id": "9VZYY3OOMkJA"
      },
      "source": [
        "## Data Preprocessing"
      ]
    },
    {
      "cell_type": "code",
      "metadata": {
        "id": "hSmoBQwQG-7H"
      },
      "source": [
        "# import jieba\n",
        "# import jieba.posseg as pseg\n",
        "# import stopwordsiso\n",
        "# import nltk\n",
        "# nltk.download('stopwords')\n",
        "# from stopwordsiso import stopwords \n",
        "# from nltk.corpus import stopwords as st\n",
        "# from nltk.stem.porter import PorterStemmer\n",
        "# ps = PorterStemmer()\n",
        "\n",
        "# i=1\n",
        "# import re\n",
        "# cop=[]\n",
        "\n",
        "\n",
        "# def contains(s):\n",
        "#     return not re.search(r'[^A-Za-z]+', s)\n",
        "\n",
        "# for sen in df[\"Topic\"]:\n",
        "\n",
        "#   #to remove singal and number \n",
        "#   sen=re.sub(r'[^\\w]', ' ', sen)\n",
        "#   sen=re.sub(r'[0-9]', ' ', sen)\n",
        "\n",
        "#   #convert chinese sentence to words\n",
        "#   words = pseg.cut(sen)\n",
        "#   # print(df[\"Topic\"][1].values[0])\n",
        "#   wo=[w.word for w in words if w.word not in stopwords([\"zh\"]) and w.word not in st.words(\"english\")]\n",
        "\n",
        "#   #to remove stickers from the sentence\n",
        "  \n",
        "#   for index  in range(len(wo)):\n",
        "#     # if contains(wo[index]):\n",
        "       \n",
        "#         # if len(wo[index])<=2:\n",
        "#         #   wo[index]=\"\"\n",
        "\n",
        "#     try:\n",
        "#       detect(wo[index])\n",
        "#     except:\n",
        "\n",
        "#       wo[index]=\"\"\n",
        "#   wo_no_space=[]\n",
        "#   for w1 in wo:\n",
        "   \n",
        "          \n",
        "#     if w1!=\"\":\n",
        "#       if detect(w1)==\"en\":\n",
        "#         w1=ps.stem(w1)\n",
        "#         w1=w1.lower()\n",
        "#       wo_no_space.append(w1)\n",
        "\n",
        "#   me=\" \".join(wo_no_space)\n",
        "#   i+=1\n",
        "#   print(i)\n",
        "#   cop.append(me)"
      ],
      "execution_count": null,
      "outputs": []
    },
    {
      "cell_type": "code",
      "metadata": {
        "id": "m9iCcBkQHD_w"
      },
      "source": [
        "# with open('/content/drive/MyDrive/Post_Dataset/sentences1.npy', 'wb') as f:\n",
        "#     np.save(f, np.array(cop))\n",
        "with open('/content/drive/MyDrive/Post_Dataset/sentences.npy', 'rb') as f:\n",
        "    topic = np.load(f)"
      ],
      "execution_count": null,
      "outputs": []
    },
    {
      "cell_type": "code",
      "metadata": {
        "colab": {
          "base_uri": "https://localhost:8080/"
        },
        "id": "2_Q3pkAlI_aL",
        "outputId": "b322c08a-c6d3-4460-8cde-cdbda11d2ff6"
      },
      "source": [
        "# sentence_topic=topic+sentences\n",
        "print(df[\"Community\"][101])\n",
        "sen_topic=np.core.defchararray.add(topic,sentences)"
      ],
      "execution_count": null,
      "outputs": [
        {
          "output_type": "stream",
          "text": [
            "運動🏀⚽⚾🏉🏈🎾🎠🚣\n"
          ],
          "name": "stdout"
        }
      ]
    },
    {
      "cell_type": "markdown",
      "metadata": {
        "id": "gfpgfJal6Vba"
      },
      "source": [
        "## X_train"
      ]
    },
    {
      "cell_type": "code",
      "metadata": {
        "id": "t_li_4OPjfBd"
      },
      "source": [
        "cop=[]\n",
        "for i in cop3:\n",
        "  cop.append(\" \".join(i))\n",
        "cop[0]\n",
        "cop3=[]"
      ],
      "execution_count": 10,
      "outputs": []
    },
    {
      "cell_type": "code",
      "metadata": {
        "colab": {
          "base_uri": "https://localhost:8080/"
        },
        "id": "8x3dyllcey5s",
        "outputId": "7f629dca-f49e-4f63-a4ec-7252e1b855eb"
      },
      "source": [
        "len(cop)"
      ],
      "execution_count": 11,
      "outputs": [
        {
          "output_type": "execute_result",
          "data": {
            "text/plain": [
              "24193"
            ]
          },
          "metadata": {
            "tags": []
          },
          "execution_count": 11
        }
      ]
    },
    {
      "cell_type": "code",
      "metadata": {
        "colab": {
          "base_uri": "https://localhost:8080/"
        },
        "id": "QpXshMJ0IWTy",
        "outputId": "7a429793-aa28-4ada-9772-bad253138c75"
      },
      "source": [
        "#use countVectorizer\n",
        "\n",
        "# from sklearn.feature_extraction.text import CountVectorizer\n",
        "# cv = CountVectorizer(max_features=10000)\n",
        "# X = cv.fit_transform(cop).toarray()\n",
        "\n",
        "# Creating the TF-IDF model\n",
        "from sklearn.feature_extraction.text import TfidfVectorizer\n",
        "cv = TfidfVectorizer()\n",
        "X = cv.fit_transform(cop).toarray()\n",
        "cop=[]\n",
        "X.shape"
      ],
      "execution_count": 12,
      "outputs": [
        {
          "output_type": "execute_result",
          "data": {
            "text/plain": [
              "(24193, 13447)"
            ]
          },
          "metadata": {
            "tags": []
          },
          "execution_count": 12
        }
      ]
    },
    {
      "cell_type": "code",
      "metadata": {
        "colab": {
          "base_uri": "https://localhost:8080/"
        },
        "id": "GcBOos7o_fw0",
        "outputId": "b453ee14-a2a4-4a63-a715-4fbf2a4b8fc8"
      },
      "source": [
        "X[0]"
      ],
      "execution_count": 43,
      "outputs": [
        {
          "output_type": "execute_result",
          "data": {
            "text/plain": [
              "array([0., 0., 0., ..., 0., 0., 0.])"
            ]
          },
          "metadata": {
            "tags": []
          },
          "execution_count": 43
        }
      ]
    },
    {
      "cell_type": "code",
      "metadata": {
        "id": "LnE7Oh4HkR4e",
        "colab": {
          "base_uri": "https://localhost:8080/",
          "height": 172
        },
        "outputId": "f0cc0779-d592-47a6-bc0f-8a1604af8405"
      },
      "source": [
        "# Counter(Y)"
      ],
      "execution_count": null,
      "outputs": [
        {
          "output_type": "error",
          "ename": "NameError",
          "evalue": "ignored",
          "traceback": [
            "\u001b[0;31m---------------------------------------------------------------------------\u001b[0m",
            "\u001b[0;31mNameError\u001b[0m                                 Traceback (most recent call last)",
            "\u001b[0;32m<ipython-input-16-01ba29044c2e>\u001b[0m in \u001b[0;36m<module>\u001b[0;34m()\u001b[0m\n\u001b[0;32m----> 1\u001b[0;31m \u001b[0mCounter\u001b[0m\u001b[0;34m(\u001b[0m\u001b[0mY\u001b[0m\u001b[0;34m)\u001b[0m\u001b[0;34m\u001b[0m\u001b[0;34m\u001b[0m\u001b[0m\n\u001b[0m",
            "\u001b[0;31mNameError\u001b[0m: name 'Y' is not defined"
          ]
        }
      ]
    },
    {
      "cell_type": "markdown",
      "metadata": {
        "id": "7ff69ncxksq0"
      },
      "source": [
        "## Imbalance Data"
      ]
    },
    {
      "cell_type": "code",
      "metadata": {
        "colab": {
          "base_uri": "https://localhost:8080/"
        },
        "id": "O9_lKGzpkwGG",
        "outputId": "7ef1b32e-4386-4ccc-c4b2-8593240fcb7c"
      },
      "source": [
        "from imblearn.over_sampling import RandomOverSampler\n",
        "os =  RandomOverSampler(ratio=0.9)\n",
        "X_train_res, y_train_res = os.fit_sample(X, y)\n",
        "X_train_res.shape,y_train_res.shape\n",
        "X=[]"
      ],
      "execution_count": 14,
      "outputs": [
        {
          "output_type": "stream",
          "text": [
            "/usr/local/lib/python3.7/dist-packages/sklearn/externals/six.py:31: FutureWarning: The module is deprecated in version 0.21 and will be removed in version 0.23 since we've dropped support for Python 2.7. Please rely on the official version of six (https://pypi.org/project/six/).\n",
            "  \"(https://pypi.org/project/six/).\", FutureWarning)\n",
            "/usr/local/lib/python3.7/dist-packages/sklearn/utils/deprecation.py:144: FutureWarning: The sklearn.neighbors.base module is  deprecated in version 0.22 and will be removed in version 0.24. The corresponding classes / functions should instead be imported from sklearn.neighbors. Anything that cannot be imported from sklearn.neighbors is now part of the private API.\n",
            "  warnings.warn(message, FutureWarning)\n",
            "/usr/local/lib/python3.7/dist-packages/sklearn/utils/deprecation.py:87: FutureWarning: Function safe_indexing is deprecated; safe_indexing is deprecated in version 0.22 and will be removed in version 0.24.\n",
            "  warnings.warn(msg, category=FutureWarning)\n"
          ],
          "name": "stderr"
        }
      ]
    },
    {
      "cell_type": "code",
      "metadata": {
        "colab": {
          "base_uri": "https://localhost:8080/"
        },
        "id": "DWenuHXI6h1S",
        "outputId": "885d3e77-accb-4ed9-c9ff-2a67e51592a7"
      },
      "source": [
        "from collections import Counter\n",
        "Counter(y_train_res),Counter(y)"
      ],
      "execution_count": null,
      "outputs": [
        {
          "output_type": "execute_result",
          "data": {
            "text/plain": [
              "(Counter({0: 21461, 1: 17168}), Counter({0: 21461, 1: 2732}))"
            ]
          },
          "metadata": {
            "tags": []
          },
          "execution_count": 18
        }
      ]
    },
    {
      "cell_type": "code",
      "metadata": {
        "id": "8ylPHDxhNFCv"
      },
      "source": [
        "y=pd.get_dummies(df['Label'])\n",
        "y=y.iloc[:,0].values\n",
        "y\n",
        "df=[]\n",
        "# d=Counter(y)\n",
        "# d\n"
      ],
      "execution_count": 13,
      "outputs": []
    },
    {
      "cell_type": "code",
      "metadata": {
        "id": "2En8lmR8WHIc"
      },
      "source": [
        "# df_train=pd.read()"
      ],
      "execution_count": null,
      "outputs": []
    },
    {
      "cell_type": "code",
      "metadata": {
        "id": "vJk09-iONF7o"
      },
      "source": [
        "from sklearn.model_selection import train_test_split\n",
        "X_train, X_test, y_train, y_test = train_test_split(X_train_res, y_train_res, test_size = 0.20, random_state = 0)"
      ],
      "execution_count": 15,
      "outputs": []
    },
    {
      "cell_type": "code",
      "metadata": {
        "id": "aF7CqBzKWkcq"
      },
      "source": [
        "# X_train=pd.concat([X_train,X_train]\n",
        "X=[]\n",
        "y=[]"
      ],
      "execution_count": 16,
      "outputs": []
    },
    {
      "cell_type": "markdown",
      "metadata": {
        "id": "C3xgB7p5NNWu"
      },
      "source": [
        "## Model Selection"
      ]
    },
    {
      "cell_type": "code",
      "metadata": {
        "id": "AUPnGGKxNO9c"
      },
      "source": [
        "from sklearn.naive_bayes import MultinomialNB\n"
      ],
      "execution_count": 17,
      "outputs": []
    },
    {
      "cell_type": "code",
      "metadata": {
        "colab": {
          "base_uri": "https://localhost:8080/"
        },
        "id": "BItpTxHLNWW4",
        "outputId": "4183312b-2d36-42fd-c22f-c95807bad94b"
      },
      "source": [
        "from sklearn import metrics\n",
        "import numpy as np\n",
        "import itertools\n",
        "previous_score=0\n",
        "l=[]\n",
        "for alpha in np.arange(0,2,0.1):\n",
        "    sub_classifier=MultinomialNB(alpha=alpha)\n",
        "    sub_classifier.fit(X_train,y_train)\n",
        "    y_pred=sub_classifier.predict(X_test)\n",
        "    score = metrics.accuracy_score(y_test, y_pred)\n",
        "    if score>previous_score:\n",
        "        classifier=sub_classifier\n",
        "    print(\"Alpha: {}, Score : {}\".format(alpha,score))\n",
        "    "
      ],
      "execution_count": 18,
      "outputs": [
        {
          "output_type": "stream",
          "text": [
            "/usr/local/lib/python3.7/dist-packages/sklearn/naive_bayes.py:507: UserWarning: alpha too small will result in numeric errors, setting alpha = 1.0e-10\n",
            "  'setting alpha = %.1e' % _ALPHA_MIN)\n"
          ],
          "name": "stderr"
        },
        {
          "output_type": "stream",
          "text": [
            "Alpha: 0.0, Score : 0.8245268138801262\n",
            "Alpha: 0.1, Score : 0.823869610935857\n",
            "Alpha: 0.2, Score : 0.8218980021030494\n",
            "Alpha: 0.30000000000000004, Score : 0.8188748685594112\n",
            "Alpha: 0.4, Score : 0.8183491062039958\n",
            "Alpha: 0.5, Score : 0.8166403785488959\n",
            "Alpha: 0.6000000000000001, Score : 0.8155888538380652\n",
            "Alpha: 0.7000000000000001, Score : 0.8151945320715037\n",
            "Alpha: 0.8, Score : 0.814143007360673\n",
            "Alpha: 0.9, Score : 0.8137486855941115\n",
            "Alpha: 1.0, Score : 0.81164563617245\n",
            "Alpha: 1.1, Score : 0.8090168243953733\n",
            "Alpha: 1.2000000000000002, Score : 0.8090168243953733\n",
            "Alpha: 1.3, Score : 0.8088853838065194\n",
            "Alpha: 1.4000000000000001, Score : 0.8071766561514195\n",
            "Alpha: 1.5, Score : 0.8063880126182965\n",
            "Alpha: 1.6, Score : 0.8057308096740273\n",
            "Alpha: 1.7000000000000002, Score : 0.8061251314405888\n",
            "Alpha: 1.8, Score : 0.8050736067297581\n",
            "Alpha: 1.9000000000000001, Score : 0.8048107255520505\n"
          ],
          "name": "stdout"
        }
      ]
    },
    {
      "cell_type": "code",
      "metadata": {
        "colab": {
          "base_uri": "https://localhost:8080/"
        },
        "id": "otB31jpnQ6k9",
        "outputId": "fcb81f45-701f-4072-e6f6-c9f97ca941e1"
      },
      "source": [
        "bad_detect_model = MultinomialNB(alpha=0.001).fit(X_train, y_train)\n",
        "print(bad_detect_model.score(X_test,y_test))\n",
        "y_pred=bad_detect_model.predict(X_test)"
      ],
      "execution_count": 19,
      "outputs": [
        {
          "output_type": "stream",
          "text": [
            "0.8250525762355415\n"
          ],
          "name": "stdout"
        }
      ]
    },
    {
      "cell_type": "code",
      "metadata": {
        "colab": {
          "base_uri": "https://localhost:8080/",
          "height": 460
        },
        "id": "ZEKreLUoQ-TZ",
        "outputId": "316ad9cb-6c37-4d74-f832-d264cf4e4d0a"
      },
      "source": [
        "\n",
        "import seaborn as sn\n",
        "import tensorflow as tf\n",
        "import matplotlib.pyplot as plt\n",
        "\n",
        "cm = tf.math.confusion_matrix(labels=y_test,predictions=y_pred)\n",
        "\n",
        "plt.figure(figsize = (10,7))\n",
        "sn.heatmap(cm, annot=True, fmt='d')\n",
        "plt.xlabel('Predicted')\n",
        "plt.ylabel('Truth')"
      ],
      "execution_count": 20,
      "outputs": [
        {
          "output_type": "execute_result",
          "data": {
            "text/plain": [
              "Text(69.0, 0.5, 'Truth')"
            ]
          },
          "metadata": {
            "tags": []
          },
          "execution_count": 20
        },
        {
          "output_type": "display_data",
          "data": {
            "image/png": "[encoded data removed]",
            "text/plain": [
              "<Figure size 720x504 with 2 Axes>"
            ]
          },
          "metadata": {
            "tags": [],
            "needs_background": "light"
          }
        }
      ]
    },
    {
      "cell_type": "code",
      "metadata": {
        "colab": {
          "base_uri": "https://localhost:8080/"
        },
        "id": "YfsvVX3rwPKf",
        "outputId": "e1426900-c429-4e78-a10b-7a9707c40589"
      },
      "source": [
        "len(cv.get_feature_names())"
      ],
      "execution_count": 22,
      "outputs": [
        {
          "output_type": "execute_result",
          "data": {
            "text/plain": [
              "13447"
            ]
          },
          "metadata": {
            "tags": []
          },
          "execution_count": 22
        }
      ]
    },
    {
      "cell_type": "code",
      "metadata": {
        "colab": {
          "base_uri": "https://localhost:8080/"
        },
        "id": "kCB6LBEywrir",
        "outputId": "b4b9c259-b35d-4ad5-a36b-28a531c2d29b"
      },
      "source": [
        "(1319+1105)/(1319+1105+471+324)"
      ],
      "execution_count": null,
      "outputs": [
        {
          "output_type": "execute_result",
          "data": {
            "text/plain": [
              "0.7530288909599254"
            ]
          },
          "metadata": {
            "tags": []
          },
          "execution_count": 51
        }
      ]
    },
    {
      "cell_type": "code",
      "metadata": {
        "colab": {
          "base_uri": "https://localhost:8080/",
          "height": 35
        },
        "id": "51ulLFbmx5i0",
        "outputId": "fc66f017-fa2d-41f4-9383-62efa1c2a60d"
      },
      "source": [
        "cv.get_feature_names()[4000]"
      ],
      "execution_count": null,
      "outputs": [
        {
          "output_type": "execute_result",
          "data": {
            "application/vnd.google.colaboratory.intrinsic+json": {
              "type": "string"
            },
            "text/plain": [
              "'tricor'"
            ]
          },
          "metadata": {
            "tags": []
          },
          "execution_count": 21
        }
      ]
    },
    {
      "cell_type": "code",
      "metadata": {
        "id": "si6ascIAyrUb"
      },
      "source": [
        "import pickle\n",
        "pickle.dump(cv.vocabulary_,open(\"/content/drive/MyDrive/Post_Dataset/Data/featur_test_train_09_test1.pkl\",\"wb\"))\n",
        "\n",
        "#Load it later\n",
        "from sklearn.feature_extraction.text import TfidfVectorizer,TfidfTransformer,CountVectorizer\n",
        "transformer = TfidfTransformer()\n",
        "loaded_vec = CountVectorizer(decode_error=\"replace\",vocabulary=pickle.load(open(\"/content/drive/MyDrive/Post_Dataset/Data/featur_test_train_09_test1.pkl\", \"rb\")))\n"
      ],
      "execution_count": 21,
      "outputs": []
    },
    {
      "cell_type": "code",
      "metadata": {
        "colab": {
          "base_uri": "https://localhost:8080/"
        },
        "id": "RfM7FrbD0LQP",
        "outputId": "8df51b10-6d2f-471e-d27f-f1cc653a3f9f"
      },
      "source": [
        "tfidf = transformer.fit_transform(loaded_vec.fit_transform(np.array([\"sp and fwb\"])))\n",
        "bad_detect_model.predict_proba(tfidf)[0][0]\n"
      ],
      "execution_count": 29,
      "outputs": [
        {
          "output_type": "execute_result",
          "data": {
            "text/plain": [
              "0.9392700303484292"
            ]
          },
          "metadata": {
            "tags": []
          },
          "execution_count": 29
        }
      ]
    },
    {
      "cell_type": "code",
      "metadata": {
        "id": "WJbRTIU9cmKj"
      },
      "source": [
        "filename = '/content/drive/MyDrive/Post_Dataset/Data/model_test_train_09_test1.pkl'\n",
        "pickle.dump(bad_detect_model, open(filename, 'wb'))"
      ],
      "execution_count": 22,
      "outputs": []
    },
    {
      "cell_type": "code",
      "metadata": {
        "id": "truLI65Wid-r"
      },
      "source": [
        "loaded_model = pickle.load(open(filename, 'rb'))\n",
        "# result = loaded_model.score(X_test, Y_test)\n",
        "# 即約ptgf\n",
        "Joyce Fu 來原係紅底"
      ],
      "execution_count": 22,
      "outputs": []
    },
    {
      "cell_type": "markdown",
      "metadata": {
        "id": "zmJXjkfQpnpw"
      },
      "source": [
        "## KNN"
      ]
    },
    {
      "cell_type": "code",
      "metadata": {
        "id": "mTKjBUVL0ugc",
        "colab": {
          "base_uri": "https://localhost:8080/"
        },
        "outputId": "04dafe99-fb3c-4390-d3a0-805cae467f11"
      },
      "source": [
        "from sklearn.neighbors import KNeighborsClassifier\n",
        "\n",
        "knn = KNeighborsClassifier(n_neighbors=1)\n",
        "\n",
        "knn.fit(X_train,y_train)"
      ],
      "execution_count": null,
      "outputs": [
        {
          "output_type": "execute_result",
          "data": {
            "text/plain": [
              "KNeighborsClassifier(algorithm='auto', leaf_size=30, metric='minkowski',\n",
              "                     metric_params=None, n_jobs=None, n_neighbors=1, p=2,\n",
              "                     weights='uniform')"
            ]
          },
          "metadata": {
            "tags": []
          },
          "execution_count": 90
        }
      ]
    },
    {
      "cell_type": "code",
      "metadata": {
        "id": "UtDj_eXtq9ot"
      },
      "source": [
        "knn.score(X_test,y_test)"
      ],
      "execution_count": null,
      "outputs": []
    },
    {
      "cell_type": "code",
      "metadata": {
        "id": "mP5dXhToqO57"
      },
      "source": [
        "from sklearn.linear_model import LogisticRegression\n",
        "lo=LogisticRegression()"
      ],
      "execution_count": null,
      "outputs": []
    },
    {
      "cell_type": "code",
      "metadata": {
        "id": "kZVzP0XjqX5h",
        "colab": {
          "base_uri": "https://localhost:8080/"
        },
        "outputId": "2ae3d8db-1749-4454-f500-b239d3534fc6"
      },
      "source": [
        "lo.fit(X_train,y_train)"
      ],
      "execution_count": null,
      "outputs": [
        {
          "output_type": "execute_result",
          "data": {
            "text/plain": [
              "LogisticRegression(C=1.0, class_weight=None, dual=False, fit_intercept=True,\n",
              "                   intercept_scaling=1, l1_ratio=None, max_iter=100,\n",
              "                   multi_class='auto', n_jobs=None, penalty='l2',\n",
              "                   random_state=None, solver='lbfgs', tol=0.0001, verbose=0,\n",
              "                   warm_start=False)"
            ]
          },
          "metadata": {
            "tags": []
          },
          "execution_count": 23
        }
      ]
    },
    {
      "cell_type": "code",
      "metadata": {
        "colab": {
          "base_uri": "https://localhost:8080/"
        },
        "id": "99j10hltomk5",
        "outputId": "0723d604-d1f2-4ace-e2a2-f9c1d40de158"
      },
      "source": [
        "lo.score(X_test,y_test)"
      ],
      "execution_count": null,
      "outputs": [
        {
          "output_type": "execute_result",
          "data": {
            "text/plain": [
              "0.7477477477477478"
            ]
          },
          "metadata": {
            "tags": []
          },
          "execution_count": 24
        }
      ]
    },
    {
      "cell_type": "code",
      "metadata": {
        "id": "Onqr7cVgpT3A"
      },
      "source": [
        ""
      ],
      "execution_count": null,
      "outputs": []
    }
  ]
}